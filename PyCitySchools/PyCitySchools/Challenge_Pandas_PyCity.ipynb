{
 "cells": [
  {
   "cell_type": "markdown",
   "metadata": {},
   "source": [
    "# PyCity Schools Analysis\n",
    "\n",
    "* As a whole, schools with higher budgets, did not yield better test results. By contrast, schools with higher spending 645-675 per student actually underperformed compared to schools with smaller budgets (585 per student).\n",
    "\n",
    "* As a whole, smaller and medium sized schools dramatically out-performed large sized schools on passing math performances (89-91% passing vs 67%).\n",
    "\n",
    "* As a whole, charter schools out-performed the public district schools across all metrics. However, more analysis will be required to glean if the effect is due to school practices or the fact that charter schools tend to serve smaller student populations per school. \n",
    "---"
   ]
  },
  {
   "cell_type": "code",
   "execution_count": 1,
   "metadata": {},
   "outputs": [
    {
     "data": {
      "text/html": [
       "<div>\n",
       "<style scoped>\n",
       "    .dataframe tbody tr th:only-of-type {\n",
       "        vertical-align: middle;\n",
       "    }\n",
       "\n",
       "    .dataframe tbody tr th {\n",
       "        vertical-align: top;\n",
       "    }\n",
       "\n",
       "    .dataframe thead th {\n",
       "        text-align: right;\n",
       "    }\n",
       "</style>\n",
       "<table border=\"1\" class=\"dataframe\">\n",
       "  <thead>\n",
       "    <tr style=\"text-align: right;\">\n",
       "      <th></th>\n",
       "      <th>Student ID</th>\n",
       "      <th>student_name</th>\n",
       "      <th>gender</th>\n",
       "      <th>grade</th>\n",
       "      <th>school_name</th>\n",
       "      <th>reading_score</th>\n",
       "      <th>math_score</th>\n",
       "      <th>School ID</th>\n",
       "      <th>type</th>\n",
       "      <th>size</th>\n",
       "      <th>budget</th>\n",
       "    </tr>\n",
       "  </thead>\n",
       "  <tbody>\n",
       "    <tr>\n",
       "      <th>0</th>\n",
       "      <td>0</td>\n",
       "      <td>Paul Bradley</td>\n",
       "      <td>M</td>\n",
       "      <td>9th</td>\n",
       "      <td>Huang High School</td>\n",
       "      <td>66</td>\n",
       "      <td>79</td>\n",
       "      <td>0</td>\n",
       "      <td>District</td>\n",
       "      <td>2917</td>\n",
       "      <td>1910635</td>\n",
       "    </tr>\n",
       "    <tr>\n",
       "      <th>1</th>\n",
       "      <td>1</td>\n",
       "      <td>Victor Smith</td>\n",
       "      <td>M</td>\n",
       "      <td>12th</td>\n",
       "      <td>Huang High School</td>\n",
       "      <td>94</td>\n",
       "      <td>61</td>\n",
       "      <td>0</td>\n",
       "      <td>District</td>\n",
       "      <td>2917</td>\n",
       "      <td>1910635</td>\n",
       "    </tr>\n",
       "    <tr>\n",
       "      <th>2</th>\n",
       "      <td>2</td>\n",
       "      <td>Kevin Rodriguez</td>\n",
       "      <td>M</td>\n",
       "      <td>12th</td>\n",
       "      <td>Huang High School</td>\n",
       "      <td>90</td>\n",
       "      <td>60</td>\n",
       "      <td>0</td>\n",
       "      <td>District</td>\n",
       "      <td>2917</td>\n",
       "      <td>1910635</td>\n",
       "    </tr>\n",
       "    <tr>\n",
       "      <th>3</th>\n",
       "      <td>3</td>\n",
       "      <td>Dr. Richard Scott</td>\n",
       "      <td>M</td>\n",
       "      <td>12th</td>\n",
       "      <td>Huang High School</td>\n",
       "      <td>67</td>\n",
       "      <td>58</td>\n",
       "      <td>0</td>\n",
       "      <td>District</td>\n",
       "      <td>2917</td>\n",
       "      <td>1910635</td>\n",
       "    </tr>\n",
       "    <tr>\n",
       "      <th>4</th>\n",
       "      <td>4</td>\n",
       "      <td>Bonnie Ray</td>\n",
       "      <td>F</td>\n",
       "      <td>9th</td>\n",
       "      <td>Huang High School</td>\n",
       "      <td>97</td>\n",
       "      <td>84</td>\n",
       "      <td>0</td>\n",
       "      <td>District</td>\n",
       "      <td>2917</td>\n",
       "      <td>1910635</td>\n",
       "    </tr>\n",
       "  </tbody>\n",
       "</table>\n",
       "</div>"
      ],
      "text/plain": [
       "   Student ID       student_name gender grade        school_name  \\\n",
       "0           0       Paul Bradley      M   9th  Huang High School   \n",
       "1           1       Victor Smith      M  12th  Huang High School   \n",
       "2           2    Kevin Rodriguez      M  12th  Huang High School   \n",
       "3           3  Dr. Richard Scott      M  12th  Huang High School   \n",
       "4           4         Bonnie Ray      F   9th  Huang High School   \n",
       "\n",
       "   reading_score  math_score  School ID      type  size   budget  \n",
       "0             66          79          0  District  2917  1910635  \n",
       "1             94          61          0  District  2917  1910635  \n",
       "2             90          60          0  District  2917  1910635  \n",
       "3             67          58          0  District  2917  1910635  \n",
       "4             97          84          0  District  2917  1910635  "
      ]
     },
     "execution_count": 1,
     "metadata": {},
     "output_type": "execute_result"
    }
   ],
   "source": [
    "# Dependencies and Setup\n",
    "import pandas as pd\n",
    "\n",
    "# File to Load (Remember to Change These)\n",
    "school_data_to_load = \"Resources/schools_complete.csv\"\n",
    "student_data_to_load = \"Resources/students_complete.csv\"\n",
    "\n",
    "# Read School and Student Data File and store into Pandas DataFrames\n",
    "school_data = pd.read_csv(school_data_to_load)\n",
    "student_data = pd.read_csv(student_data_to_load)\n",
    "\n",
    "# Combine the data into a single dataset.  \n",
    "school_data_complete = pd.merge(student_data, school_data, how=\"left\", on=[\"school_name\", \"school_name\"])\n",
    "school_data_complete.head()\n"
   ]
  },
  {
   "cell_type": "markdown",
   "metadata": {},
   "source": [
    "## District Summary"
   ]
  },
  {
   "cell_type": "code",
   "execution_count": 2,
   "metadata": {},
   "outputs": [
    {
     "data": {
      "text/plain": [
       "Index(['Student ID', 'student_name', 'gender', 'grade', 'school_name',\n",
       "       'reading_score', 'math_score', 'School ID', 'type', 'size', 'budget'],\n",
       "      dtype='object')"
      ]
     },
     "execution_count": 2,
     "metadata": {},
     "output_type": "execute_result"
    }
   ],
   "source": [
    "school_data_complete.columns"
   ]
  },
  {
   "cell_type": "code",
   "execution_count": 3,
   "metadata": {},
   "outputs": [
    {
     "data": {
      "text/plain": [
       "15"
      ]
     },
     "execution_count": 3,
     "metadata": {},
     "output_type": "execute_result"
    }
   ],
   "source": [
    "# Calculate the total number of unique schools\n",
    "school_count =school_data_complete['school_name'].nunique()\n",
    "school_count"
   ]
  },
  {
   "cell_type": "code",
   "execution_count": 4,
   "metadata": {},
   "outputs": [
    {
     "data": {
      "text/plain": [
       "32715"
      ]
     },
     "execution_count": 4,
     "metadata": {},
     "output_type": "execute_result"
    }
   ],
   "source": [
    "# Calculate the total number of students\n",
    "student_count = school_data_complete['student_name'].nunique()\n",
    "student_count"
   ]
  },
  {
   "cell_type": "code",
   "execution_count": 5,
   "metadata": {},
   "outputs": [
    {
     "data": {
      "text/plain": [
       "24649428"
      ]
     },
     "execution_count": 5,
     "metadata": {},
     "output_type": "execute_result"
    }
   ],
   "source": [
    "# Calculate the total budget\n",
    "total_budget = school_data['budget'].sum()\n",
    "total_budget"
   ]
  },
  {
   "cell_type": "code",
   "execution_count": 6,
   "metadata": {},
   "outputs": [
    {
     "data": {
      "text/plain": [
       "78.98537145774827"
      ]
     },
     "execution_count": 6,
     "metadata": {},
     "output_type": "execute_result"
    }
   ],
   "source": [
    "# Calculate the average (mean) math score\n",
    "average_math_score = student_data['math_score'].mean()\n",
    "average_math_score"
   ]
  },
  {
   "cell_type": "code",
   "execution_count": 7,
   "metadata": {},
   "outputs": [
    {
     "data": {
      "text/plain": [
       "81.87784018381414"
      ]
     },
     "execution_count": 7,
     "metadata": {},
     "output_type": "execute_result"
    }
   ],
   "source": [
    "# Calculate the average (mean) reading score\n",
    "average_reading_score = student_data['reading_score'].mean()\n",
    "average_reading_score"
   ]
  },
  {
   "cell_type": "code",
   "execution_count": 8,
   "metadata": {},
   "outputs": [
    {
     "data": {
      "text/plain": [
       "29370"
      ]
     },
     "execution_count": 8,
     "metadata": {},
     "output_type": "execute_result"
    }
   ],
   "source": [
    "# Use the following to calculate the percentage of students who passed math (math scores greather than or equal to 70)\n",
    "passing_math_count = student_data.loc[(student_data[\"math_score\"] >= 70)]\n",
    "\n",
    "passing_math_count = passing_math_count[\"student_name\"].count()\n",
    "passing_math_count"
   ]
  },
  {
   "cell_type": "code",
   "execution_count": 9,
   "metadata": {},
   "outputs": [
    {
     "data": {
      "text/plain": [
       "39170"
      ]
     },
     "execution_count": 9,
     "metadata": {},
     "output_type": "execute_result"
    }
   ],
   "source": [
    "student_count= student_data[\"Student ID\"].nunique()\n",
    "student_count"
   ]
  },
  {
   "cell_type": "code",
   "execution_count": 10,
   "metadata": {},
   "outputs": [
    {
     "data": {
      "text/plain": [
       "74.9808526933878"
      ]
     },
     "execution_count": 10,
     "metadata": {},
     "output_type": "execute_result"
    }
   ],
   "source": [
    "passing_math_percentage = passing_math_count / float(student_count) * 100\n",
    "passing_math_percentage"
   ]
  },
  {
   "cell_type": "code",
   "execution_count": 11,
   "metadata": {},
   "outputs": [
    {
     "data": {
      "text/plain": [
       "33610"
      ]
     },
     "execution_count": 11,
     "metadata": {},
     "output_type": "execute_result"
    }
   ],
   "source": [
    "# Calculate the percentage of students who passeed reading (hint: look at how the math percentage was calculated)  \n",
    "passing_reading_count = school_data_complete[(school_data_complete[\"reading_score\"] >= 70)].count()[\"student_name\"]\n",
    "passing_reading_count"
   ]
  },
  {
   "cell_type": "code",
   "execution_count": 12,
   "metadata": {},
   "outputs": [
    {
     "data": {
      "text/plain": [
       "85.80546336482001"
      ]
     },
     "execution_count": 12,
     "metadata": {},
     "output_type": "execute_result"
    }
   ],
   "source": [
    "passing_reading_percentage = passing_reading_count /float(student_count) * 100\n",
    "passing_reading_percentage"
   ]
  },
  {
   "cell_type": "code",
   "execution_count": 13,
   "metadata": {},
   "outputs": [],
   "source": [
    "# Use the following to calculate the percentage of students that passed math and reading\n",
    "passing_math_reading_count = school_data_complete[\n",
    "    (school_data_complete[\"math_score\"] >= 70) & (school_data_complete[\"reading_score\"] >= 70)\n",
    "].count()[\"student_name\"]\n"
   ]
  },
  {
   "cell_type": "code",
   "execution_count": 14,
   "metadata": {},
   "outputs": [],
   "source": [
    "overall_passing_rate = passing_math_reading_count /  float(student_count) * 100\n"
   ]
  },
  {
   "cell_type": "code",
   "execution_count": 15,
   "metadata": {},
   "outputs": [
    {
     "data": {
      "text/html": [
       "<div>\n",
       "<style scoped>\n",
       "    .dataframe tbody tr th:only-of-type {\n",
       "        vertical-align: middle;\n",
       "    }\n",
       "\n",
       "    .dataframe tbody tr th {\n",
       "        vertical-align: top;\n",
       "    }\n",
       "\n",
       "    .dataframe thead th {\n",
       "        text-align: right;\n",
       "    }\n",
       "</style>\n",
       "<table border=\"1\" class=\"dataframe\">\n",
       "  <thead>\n",
       "    <tr style=\"text-align: right;\">\n",
       "      <th></th>\n",
       "      <th>Total Schools</th>\n",
       "      <th>Total Students</th>\n",
       "      <th>Total Budget</th>\n",
       "      <th>Average Math Score</th>\n",
       "      <th>Average Reading Score</th>\n",
       "      <th>Percentage Passing Math</th>\n",
       "      <th>Percentage Passing Reading</th>\n",
       "      <th>Percentage Overall Passing</th>\n",
       "    </tr>\n",
       "  </thead>\n",
       "  <tbody>\n",
       "    <tr>\n",
       "      <th>0</th>\n",
       "      <td>15</td>\n",
       "      <td>39170</td>\n",
       "      <td>24649428</td>\n",
       "      <td>78.985371</td>\n",
       "      <td>81.87784</td>\n",
       "      <td>74.980853</td>\n",
       "      <td>85.805463</td>\n",
       "      <td>65.172326</td>\n",
       "    </tr>\n",
       "  </tbody>\n",
       "</table>\n",
       "</div>"
      ],
      "text/plain": [
       "   Total Schools  Total Students  Total Budget  Average Math Score  \\\n",
       "0             15           39170      24649428           78.985371   \n",
       "\n",
       "   Average Reading Score  Percentage Passing Math  Percentage Passing Reading  \\\n",
       "0               81.87784                74.980853                   85.805463   \n",
       "\n",
       "   Percentage Overall Passing  \n",
       "0                   65.172326  "
      ]
     },
     "execution_count": 15,
     "metadata": {},
     "output_type": "execute_result"
    }
   ],
   "source": [
    "# Create a high-level snapshot of the district's key metrics in a DataFrame\n",
    "district_summary = pd.DataFrame({\n",
    "    \"Total Schools\": [school_count],\n",
    "    \"Total Students\": [student_count],\n",
    "    \"Total Budget\": [total_budget],\n",
    "    \"Average Math Score\": [average_math_score],\n",
    "    \"Average Reading Score\": [average_reading_score],\n",
    "    \"Percentage Passing Math\": [passing_math_percentage],\n",
    "    \"Percentage Passing Reading\": [passing_reading_percentage],\n",
    "    \"Percentage Overall Passing\": [overall_passing_rate]\n",
    "})\n",
    "\n",
    "district_summary\n",
    "\n"
   ]
  },
  {
   "cell_type": "code",
   "execution_count": 16,
   "metadata": {},
   "outputs": [],
   "source": [
    "district_summary[\"Total Students\"] = district_summary[\"Total Students\"].map(\"{:,}\".format)\n",
    "district_summary['Total Budget']=district_summary['Total Budget'].map(\"${:,.2f}\".format)\n",
    "district_summary[\"Average Math Score\"]=district_summary[\"Average Math Score\"].map(\"{:6f}\".format)\n",
    "district_summary[\"Average Reading Score\"]=district_summary[\"Average Reading Score\"].map(\"{:6f}\".format)\n",
    "district_summary[\"Percentage Passing Math\"]=district_summary[\"Percentage Passing Math\"].map(\"{:6f}\".format)\n",
    "district_summary[\"Percentage Passing Reading\"]=district_summary[\"Percentage Passing Reading\"].map(\"{:6f}\".format)\n",
    "district_summary[\"Percentage Overall Passing\"]=district_summary[\"Percentage Overall Passing\"].map(\"{:6f}\".format)\n"
   ]
  },
  {
   "cell_type": "code",
   "execution_count": 17,
   "metadata": {},
   "outputs": [
    {
     "data": {
      "text/html": [
       "<div>\n",
       "<style scoped>\n",
       "    .dataframe tbody tr th:only-of-type {\n",
       "        vertical-align: middle;\n",
       "    }\n",
       "\n",
       "    .dataframe tbody tr th {\n",
       "        vertical-align: top;\n",
       "    }\n",
       "\n",
       "    .dataframe thead th {\n",
       "        text-align: right;\n",
       "    }\n",
       "</style>\n",
       "<table border=\"1\" class=\"dataframe\">\n",
       "  <thead>\n",
       "    <tr style=\"text-align: right;\">\n",
       "      <th></th>\n",
       "      <th>Total Schools</th>\n",
       "      <th>Total Students</th>\n",
       "      <th>Total Budget</th>\n",
       "      <th>Average Math Score</th>\n",
       "      <th>Average Reading Score</th>\n",
       "      <th>Percentage Passing Math</th>\n",
       "      <th>Percentage Passing Reading</th>\n",
       "      <th>Percentage Overall Passing</th>\n",
       "    </tr>\n",
       "  </thead>\n",
       "  <tbody>\n",
       "    <tr>\n",
       "      <th>0</th>\n",
       "      <td>15</td>\n",
       "      <td>39,170</td>\n",
       "      <td>$24,649,428.00</td>\n",
       "      <td>78.985371</td>\n",
       "      <td>81.877840</td>\n",
       "      <td>74.980853</td>\n",
       "      <td>85.805463</td>\n",
       "      <td>65.172326</td>\n",
       "    </tr>\n",
       "  </tbody>\n",
       "</table>\n",
       "</div>"
      ],
      "text/plain": [
       "   Total Schools Total Students    Total Budget Average Math Score  \\\n",
       "0             15         39,170  $24,649,428.00          78.985371   \n",
       "\n",
       "  Average Reading Score Percentage Passing Math Percentage Passing Reading  \\\n",
       "0             81.877840               74.980853                  85.805463   \n",
       "\n",
       "  Percentage Overall Passing  \n",
       "0                  65.172326  "
      ]
     },
     "execution_count": 17,
     "metadata": {},
     "output_type": "execute_result"
    }
   ],
   "source": [
    "district_summary.head(10)"
   ]
  },
  {
   "cell_type": "markdown",
   "metadata": {},
   "source": [
    "## School Summary"
   ]
  },
  {
   "cell_type": "code",
   "execution_count": 18,
   "metadata": {},
   "outputs": [],
   "source": [
    "school_name = school_data_complete.set_index('school_name').groupby(['school_name'])"
   ]
  },
  {
   "cell_type": "code",
   "execution_count": 19,
   "metadata": {},
   "outputs": [],
   "source": [
    "# Use the code provided to select the school type\n",
    "school_types = school_data.set_index([\"school_name\"])[\"type\"]\n"
   ]
  },
  {
   "cell_type": "code",
   "execution_count": 20,
   "metadata": {},
   "outputs": [
    {
     "data": {
      "text/plain": [
       "school_name\n",
       "Bailey High School       4976\n",
       "Cabrera High School      1858\n",
       "Figueroa High School     2949\n",
       "Ford High School         2739\n",
       "Griffin High School      1468\n",
       "Hernandez High School    4635\n",
       "Holden High School        427\n",
       "Huang High School        2917\n",
       "Johnson High School      4761\n",
       "Pena High School          962\n",
       "Rodriguez High School    3999\n",
       "Shelton High School      1761\n",
       "Thomas High School       1635\n",
       "Wilson High School       2283\n",
       "Wright High School       1800\n",
       "Name: Student ID, dtype: int64"
      ]
     },
     "execution_count": 20,
     "metadata": {},
     "output_type": "execute_result"
    }
   ],
   "source": [
    "# Calculate the total student count\n",
    "per_school_total_student = school_name['Student ID'].count()\n",
    "per_school_total_student"
   ]
  },
  {
   "cell_type": "code",
   "execution_count": 21,
   "metadata": {},
   "outputs": [
    {
     "data": {
      "text/plain": [
       "school_name\n",
       "Huang High School        655.0\n",
       "Figueroa High School     639.0\n",
       "Shelton High School      600.0\n",
       "Hernandez High School    652.0\n",
       "Griffin High School      625.0\n",
       "Wilson High School       578.0\n",
       "Cabrera High School      582.0\n",
       "Bailey High School       628.0\n",
       "Holden High School       581.0\n",
       "Pena High School         609.0\n",
       "Wright High School       583.0\n",
       "Rodriguez High School    637.0\n",
       "Johnson High School      650.0\n",
       "Ford High School         644.0\n",
       "Thomas High School       638.0\n",
       "dtype: float64"
      ]
     },
     "execution_count": 21,
     "metadata": {},
     "output_type": "execute_result"
    }
   ],
   "source": [
    "# Calculate the total school budget and per capita spending\n",
    "per_school_budget = school_data_complete.set_index(\"school_name\")[\"budget\"]\n",
    "\n",
    "#total_school_budget = school_data.set_index('school_name')['budget']\n",
    " #(school_data.set_index('school_name')['budget']/school_data.set_index('school_name')['size'])\n",
    "per_student_budget =  (school_data.set_index('school_name')['budget']/school_data.set_index('school_name')['size'])\n",
    "per_student_budget"
   ]
  },
  {
   "cell_type": "code",
   "execution_count": 22,
   "metadata": {},
   "outputs": [],
   "source": [
    "# Calculate the average test scores\n",
    "per_school_math = school_name['math_score'].mean()\n",
    "per_school_reading =  school_name['reading_score'].mean()"
   ]
  },
  {
   "cell_type": "code",
   "execution_count": 23,
   "metadata": {},
   "outputs": [
    {
     "data": {
      "text/html": [
       "<div>\n",
       "<style scoped>\n",
       "    .dataframe tbody tr th:only-of-type {\n",
       "        vertical-align: middle;\n",
       "    }\n",
       "\n",
       "    .dataframe tbody tr th {\n",
       "        vertical-align: top;\n",
       "    }\n",
       "\n",
       "    .dataframe thead th {\n",
       "        text-align: right;\n",
       "    }\n",
       "</style>\n",
       "<table border=\"1\" class=\"dataframe\">\n",
       "  <thead>\n",
       "    <tr style=\"text-align: right;\">\n",
       "      <th></th>\n",
       "      <th>Student ID</th>\n",
       "      <th>student_name</th>\n",
       "      <th>gender</th>\n",
       "      <th>grade</th>\n",
       "      <th>school_name</th>\n",
       "      <th>reading_score</th>\n",
       "      <th>math_score</th>\n",
       "      <th>School ID</th>\n",
       "      <th>type</th>\n",
       "      <th>size</th>\n",
       "      <th>budget</th>\n",
       "    </tr>\n",
       "  </thead>\n",
       "  <tbody>\n",
       "    <tr>\n",
       "      <th>0</th>\n",
       "      <td>0</td>\n",
       "      <td>Paul Bradley</td>\n",
       "      <td>M</td>\n",
       "      <td>9th</td>\n",
       "      <td>Huang High School</td>\n",
       "      <td>66</td>\n",
       "      <td>79</td>\n",
       "      <td>0</td>\n",
       "      <td>District</td>\n",
       "      <td>2917</td>\n",
       "      <td>1910635</td>\n",
       "    </tr>\n",
       "    <tr>\n",
       "      <th>4</th>\n",
       "      <td>4</td>\n",
       "      <td>Bonnie Ray</td>\n",
       "      <td>F</td>\n",
       "      <td>9th</td>\n",
       "      <td>Huang High School</td>\n",
       "      <td>97</td>\n",
       "      <td>84</td>\n",
       "      <td>0</td>\n",
       "      <td>District</td>\n",
       "      <td>2917</td>\n",
       "      <td>1910635</td>\n",
       "    </tr>\n",
       "    <tr>\n",
       "      <th>5</th>\n",
       "      <td>5</td>\n",
       "      <td>Bryan Miranda</td>\n",
       "      <td>M</td>\n",
       "      <td>9th</td>\n",
       "      <td>Huang High School</td>\n",
       "      <td>94</td>\n",
       "      <td>94</td>\n",
       "      <td>0</td>\n",
       "      <td>District</td>\n",
       "      <td>2917</td>\n",
       "      <td>1910635</td>\n",
       "    </tr>\n",
       "    <tr>\n",
       "      <th>6</th>\n",
       "      <td>6</td>\n",
       "      <td>Sheena Carter</td>\n",
       "      <td>F</td>\n",
       "      <td>11th</td>\n",
       "      <td>Huang High School</td>\n",
       "      <td>82</td>\n",
       "      <td>80</td>\n",
       "      <td>0</td>\n",
       "      <td>District</td>\n",
       "      <td>2917</td>\n",
       "      <td>1910635</td>\n",
       "    </tr>\n",
       "    <tr>\n",
       "      <th>8</th>\n",
       "      <td>8</td>\n",
       "      <td>Michael Roth</td>\n",
       "      <td>M</td>\n",
       "      <td>10th</td>\n",
       "      <td>Huang High School</td>\n",
       "      <td>95</td>\n",
       "      <td>87</td>\n",
       "      <td>0</td>\n",
       "      <td>District</td>\n",
       "      <td>2917</td>\n",
       "      <td>1910635</td>\n",
       "    </tr>\n",
       "    <tr>\n",
       "      <th>...</th>\n",
       "      <td>...</td>\n",
       "      <td>...</td>\n",
       "      <td>...</td>\n",
       "      <td>...</td>\n",
       "      <td>...</td>\n",
       "      <td>...</td>\n",
       "      <td>...</td>\n",
       "      <td>...</td>\n",
       "      <td>...</td>\n",
       "      <td>...</td>\n",
       "      <td>...</td>\n",
       "    </tr>\n",
       "    <tr>\n",
       "      <th>39165</th>\n",
       "      <td>39165</td>\n",
       "      <td>Donna Howard</td>\n",
       "      <td>F</td>\n",
       "      <td>12th</td>\n",
       "      <td>Thomas High School</td>\n",
       "      <td>99</td>\n",
       "      <td>90</td>\n",
       "      <td>14</td>\n",
       "      <td>Charter</td>\n",
       "      <td>1635</td>\n",
       "      <td>1043130</td>\n",
       "    </tr>\n",
       "    <tr>\n",
       "      <th>39166</th>\n",
       "      <td>39166</td>\n",
       "      <td>Dawn Bell</td>\n",
       "      <td>F</td>\n",
       "      <td>10th</td>\n",
       "      <td>Thomas High School</td>\n",
       "      <td>95</td>\n",
       "      <td>70</td>\n",
       "      <td>14</td>\n",
       "      <td>Charter</td>\n",
       "      <td>1635</td>\n",
       "      <td>1043130</td>\n",
       "    </tr>\n",
       "    <tr>\n",
       "      <th>39167</th>\n",
       "      <td>39167</td>\n",
       "      <td>Rebecca Tanner</td>\n",
       "      <td>F</td>\n",
       "      <td>9th</td>\n",
       "      <td>Thomas High School</td>\n",
       "      <td>73</td>\n",
       "      <td>84</td>\n",
       "      <td>14</td>\n",
       "      <td>Charter</td>\n",
       "      <td>1635</td>\n",
       "      <td>1043130</td>\n",
       "    </tr>\n",
       "    <tr>\n",
       "      <th>39168</th>\n",
       "      <td>39168</td>\n",
       "      <td>Desiree Kidd</td>\n",
       "      <td>F</td>\n",
       "      <td>10th</td>\n",
       "      <td>Thomas High School</td>\n",
       "      <td>99</td>\n",
       "      <td>90</td>\n",
       "      <td>14</td>\n",
       "      <td>Charter</td>\n",
       "      <td>1635</td>\n",
       "      <td>1043130</td>\n",
       "    </tr>\n",
       "    <tr>\n",
       "      <th>39169</th>\n",
       "      <td>39169</td>\n",
       "      <td>Carolyn Jackson</td>\n",
       "      <td>F</td>\n",
       "      <td>11th</td>\n",
       "      <td>Thomas High School</td>\n",
       "      <td>95</td>\n",
       "      <td>75</td>\n",
       "      <td>14</td>\n",
       "      <td>Charter</td>\n",
       "      <td>1635</td>\n",
       "      <td>1043130</td>\n",
       "    </tr>\n",
       "  </tbody>\n",
       "</table>\n",
       "<p>29370 rows × 11 columns</p>\n",
       "</div>"
      ],
      "text/plain": [
       "       Student ID     student_name gender grade         school_name  \\\n",
       "0               0     Paul Bradley      M   9th   Huang High School   \n",
       "4               4       Bonnie Ray      F   9th   Huang High School   \n",
       "5               5    Bryan Miranda      M   9th   Huang High School   \n",
       "6               6    Sheena Carter      F  11th   Huang High School   \n",
       "8               8     Michael Roth      M  10th   Huang High School   \n",
       "...           ...              ...    ...   ...                 ...   \n",
       "39165       39165     Donna Howard      F  12th  Thomas High School   \n",
       "39166       39166        Dawn Bell      F  10th  Thomas High School   \n",
       "39167       39167   Rebecca Tanner      F   9th  Thomas High School   \n",
       "39168       39168     Desiree Kidd      F  10th  Thomas High School   \n",
       "39169       39169  Carolyn Jackson      F  11th  Thomas High School   \n",
       "\n",
       "       reading_score  math_score  School ID      type  size   budget  \n",
       "0                 66          79          0  District  2917  1910635  \n",
       "4                 97          84          0  District  2917  1910635  \n",
       "5                 94          94          0  District  2917  1910635  \n",
       "6                 82          80          0  District  2917  1910635  \n",
       "8                 95          87          0  District  2917  1910635  \n",
       "...              ...         ...        ...       ...   ...      ...  \n",
       "39165             99          90         14   Charter  1635  1043130  \n",
       "39166             95          70         14   Charter  1635  1043130  \n",
       "39167             73          84         14   Charter  1635  1043130  \n",
       "39168             99          90         14   Charter  1635  1043130  \n",
       "39169             95          75         14   Charter  1635  1043130  \n",
       "\n",
       "[29370 rows x 11 columns]"
      ]
     },
     "execution_count": 23,
     "metadata": {},
     "output_type": "execute_result"
    }
   ],
   "source": [
    "# Calculate the number of schools with math scores of 70 or higher\n",
    "school_passing_math = school_data_complete[school_data_complete['math_score'] >= 70]\n",
    "school_passing_math"
   ]
  },
  {
   "cell_type": "code",
   "execution_count": 24,
   "metadata": {},
   "outputs": [
    {
     "data": {
      "text/html": [
       "<div>\n",
       "<style scoped>\n",
       "    .dataframe tbody tr th:only-of-type {\n",
       "        vertical-align: middle;\n",
       "    }\n",
       "\n",
       "    .dataframe tbody tr th {\n",
       "        vertical-align: top;\n",
       "    }\n",
       "\n",
       "    .dataframe thead th {\n",
       "        text-align: right;\n",
       "    }\n",
       "</style>\n",
       "<table border=\"1\" class=\"dataframe\">\n",
       "  <thead>\n",
       "    <tr style=\"text-align: right;\">\n",
       "      <th></th>\n",
       "      <th>Student ID</th>\n",
       "      <th>student_name</th>\n",
       "      <th>gender</th>\n",
       "      <th>grade</th>\n",
       "      <th>school_name</th>\n",
       "      <th>reading_score</th>\n",
       "      <th>math_score</th>\n",
       "      <th>School ID</th>\n",
       "      <th>type</th>\n",
       "      <th>size</th>\n",
       "      <th>budget</th>\n",
       "    </tr>\n",
       "  </thead>\n",
       "  <tbody>\n",
       "    <tr>\n",
       "      <th>1</th>\n",
       "      <td>1</td>\n",
       "      <td>Victor Smith</td>\n",
       "      <td>M</td>\n",
       "      <td>12th</td>\n",
       "      <td>Huang High School</td>\n",
       "      <td>94</td>\n",
       "      <td>61</td>\n",
       "      <td>0</td>\n",
       "      <td>District</td>\n",
       "      <td>2917</td>\n",
       "      <td>1910635</td>\n",
       "    </tr>\n",
       "    <tr>\n",
       "      <th>2</th>\n",
       "      <td>2</td>\n",
       "      <td>Kevin Rodriguez</td>\n",
       "      <td>M</td>\n",
       "      <td>12th</td>\n",
       "      <td>Huang High School</td>\n",
       "      <td>90</td>\n",
       "      <td>60</td>\n",
       "      <td>0</td>\n",
       "      <td>District</td>\n",
       "      <td>2917</td>\n",
       "      <td>1910635</td>\n",
       "    </tr>\n",
       "    <tr>\n",
       "      <th>4</th>\n",
       "      <td>4</td>\n",
       "      <td>Bonnie Ray</td>\n",
       "      <td>F</td>\n",
       "      <td>9th</td>\n",
       "      <td>Huang High School</td>\n",
       "      <td>97</td>\n",
       "      <td>84</td>\n",
       "      <td>0</td>\n",
       "      <td>District</td>\n",
       "      <td>2917</td>\n",
       "      <td>1910635</td>\n",
       "    </tr>\n",
       "    <tr>\n",
       "      <th>5</th>\n",
       "      <td>5</td>\n",
       "      <td>Bryan Miranda</td>\n",
       "      <td>M</td>\n",
       "      <td>9th</td>\n",
       "      <td>Huang High School</td>\n",
       "      <td>94</td>\n",
       "      <td>94</td>\n",
       "      <td>0</td>\n",
       "      <td>District</td>\n",
       "      <td>2917</td>\n",
       "      <td>1910635</td>\n",
       "    </tr>\n",
       "    <tr>\n",
       "      <th>6</th>\n",
       "      <td>6</td>\n",
       "      <td>Sheena Carter</td>\n",
       "      <td>F</td>\n",
       "      <td>11th</td>\n",
       "      <td>Huang High School</td>\n",
       "      <td>82</td>\n",
       "      <td>80</td>\n",
       "      <td>0</td>\n",
       "      <td>District</td>\n",
       "      <td>2917</td>\n",
       "      <td>1910635</td>\n",
       "    </tr>\n",
       "    <tr>\n",
       "      <th>...</th>\n",
       "      <td>...</td>\n",
       "      <td>...</td>\n",
       "      <td>...</td>\n",
       "      <td>...</td>\n",
       "      <td>...</td>\n",
       "      <td>...</td>\n",
       "      <td>...</td>\n",
       "      <td>...</td>\n",
       "      <td>...</td>\n",
       "      <td>...</td>\n",
       "      <td>...</td>\n",
       "    </tr>\n",
       "    <tr>\n",
       "      <th>39165</th>\n",
       "      <td>39165</td>\n",
       "      <td>Donna Howard</td>\n",
       "      <td>F</td>\n",
       "      <td>12th</td>\n",
       "      <td>Thomas High School</td>\n",
       "      <td>99</td>\n",
       "      <td>90</td>\n",
       "      <td>14</td>\n",
       "      <td>Charter</td>\n",
       "      <td>1635</td>\n",
       "      <td>1043130</td>\n",
       "    </tr>\n",
       "    <tr>\n",
       "      <th>39166</th>\n",
       "      <td>39166</td>\n",
       "      <td>Dawn Bell</td>\n",
       "      <td>F</td>\n",
       "      <td>10th</td>\n",
       "      <td>Thomas High School</td>\n",
       "      <td>95</td>\n",
       "      <td>70</td>\n",
       "      <td>14</td>\n",
       "      <td>Charter</td>\n",
       "      <td>1635</td>\n",
       "      <td>1043130</td>\n",
       "    </tr>\n",
       "    <tr>\n",
       "      <th>39167</th>\n",
       "      <td>39167</td>\n",
       "      <td>Rebecca Tanner</td>\n",
       "      <td>F</td>\n",
       "      <td>9th</td>\n",
       "      <td>Thomas High School</td>\n",
       "      <td>73</td>\n",
       "      <td>84</td>\n",
       "      <td>14</td>\n",
       "      <td>Charter</td>\n",
       "      <td>1635</td>\n",
       "      <td>1043130</td>\n",
       "    </tr>\n",
       "    <tr>\n",
       "      <th>39168</th>\n",
       "      <td>39168</td>\n",
       "      <td>Desiree Kidd</td>\n",
       "      <td>F</td>\n",
       "      <td>10th</td>\n",
       "      <td>Thomas High School</td>\n",
       "      <td>99</td>\n",
       "      <td>90</td>\n",
       "      <td>14</td>\n",
       "      <td>Charter</td>\n",
       "      <td>1635</td>\n",
       "      <td>1043130</td>\n",
       "    </tr>\n",
       "    <tr>\n",
       "      <th>39169</th>\n",
       "      <td>39169</td>\n",
       "      <td>Carolyn Jackson</td>\n",
       "      <td>F</td>\n",
       "      <td>11th</td>\n",
       "      <td>Thomas High School</td>\n",
       "      <td>95</td>\n",
       "      <td>75</td>\n",
       "      <td>14</td>\n",
       "      <td>Charter</td>\n",
       "      <td>1635</td>\n",
       "      <td>1043130</td>\n",
       "    </tr>\n",
       "  </tbody>\n",
       "</table>\n",
       "<p>33610 rows × 11 columns</p>\n",
       "</div>"
      ],
      "text/plain": [
       "       Student ID     student_name gender grade         school_name  \\\n",
       "1               1     Victor Smith      M  12th   Huang High School   \n",
       "2               2  Kevin Rodriguez      M  12th   Huang High School   \n",
       "4               4       Bonnie Ray      F   9th   Huang High School   \n",
       "5               5    Bryan Miranda      M   9th   Huang High School   \n",
       "6               6    Sheena Carter      F  11th   Huang High School   \n",
       "...           ...              ...    ...   ...                 ...   \n",
       "39165       39165     Donna Howard      F  12th  Thomas High School   \n",
       "39166       39166        Dawn Bell      F  10th  Thomas High School   \n",
       "39167       39167   Rebecca Tanner      F   9th  Thomas High School   \n",
       "39168       39168     Desiree Kidd      F  10th  Thomas High School   \n",
       "39169       39169  Carolyn Jackson      F  11th  Thomas High School   \n",
       "\n",
       "       reading_score  math_score  School ID      type  size   budget  \n",
       "1                 94          61          0  District  2917  1910635  \n",
       "2                 90          60          0  District  2917  1910635  \n",
       "4                 97          84          0  District  2917  1910635  \n",
       "5                 94          94          0  District  2917  1910635  \n",
       "6                 82          80          0  District  2917  1910635  \n",
       "...              ...         ...        ...       ...   ...      ...  \n",
       "39165             99          90         14   Charter  1635  1043130  \n",
       "39166             95          70         14   Charter  1635  1043130  \n",
       "39167             73          84         14   Charter  1635  1043130  \n",
       "39168             99          90         14   Charter  1635  1043130  \n",
       "39169             95          75         14   Charter  1635  1043130  \n",
       "\n",
       "[33610 rows x 11 columns]"
      ]
     },
     "execution_count": 24,
     "metadata": {},
     "output_type": "execute_result"
    }
   ],
   "source": [
    "# Calculate the number of schools with reading scores of 70 or higher\n",
    "school_passing_reading = school_data_complete[school_data_complete['reading_score'] >= 70]\n",
    "school_passing_reading"
   ]
  },
  {
   "cell_type": "code",
   "execution_count": 25,
   "metadata": {},
   "outputs": [],
   "source": [
    "# Use the provided code to calculate the schools that passed both math and reading with scores of 70 or higher\n",
    "passing_math_and_reading = school_data_complete[\n",
    "    (school_data_complete[\"reading_score\"] >= 70) & (school_data_complete[\"math_score\"] >= 70)]"
   ]
  },
  {
   "cell_type": "code",
   "execution_count": 26,
   "metadata": {},
   "outputs": [
    {
     "data": {
      "text/plain": [
       "school_name\n",
       "Bailey High School       54.642283\n",
       "Cabrera High School      91.334769\n",
       "Figueroa High School     53.204476\n",
       "Ford High School         54.289887\n",
       "Griffin High School      90.599455\n",
       "Hernandez High School    53.527508\n",
       "Holden High School       89.227166\n",
       "Huang High School        53.513884\n",
       "Johnson High School      53.539172\n",
       "Pena High School         90.540541\n",
       "Rodriguez High School    52.988247\n",
       "Shelton High School      89.892107\n",
       "Thomas High School       90.948012\n",
       "Wilson High School       90.582567\n",
       "Wright High School       90.333333\n",
       "Name: Student ID, dtype: float64"
      ]
     },
     "execution_count": 26,
     "metadata": {},
     "output_type": "execute_result"
    }
   ],
   "source": [
    "# Use the provided code to calculate the passing rates\n",
    "\n",
    "per_school_passing_math = school_passing_math.groupby([\"school_name\"]).count()[\"Student ID\"] / per_school_total_student * 100\n",
    "per_school_passing_reading = school_passing_reading.groupby([\"school_name\"]).count()[\"Student ID\"] / per_school_total_student * 100\n",
    "overall_passing_rate = passing_math_and_reading.groupby([\"school_name\"]).count()[\"Student ID\"] / per_school_total_student * 100\n",
    "overall_passing_rate"
   ]
  },
  {
   "cell_type": "code",
   "execution_count": 37,
   "metadata": {},
   "outputs": [
    {
     "data": {
      "text/html": [
       "<div>\n",
       "<style scoped>\n",
       "    .dataframe tbody tr th:only-of-type {\n",
       "        vertical-align: middle;\n",
       "    }\n",
       "\n",
       "    .dataframe tbody tr th {\n",
       "        vertical-align: top;\n",
       "    }\n",
       "\n",
       "    .dataframe thead th {\n",
       "        text-align: right;\n",
       "    }\n",
       "</style>\n",
       "<table border=\"1\" class=\"dataframe\">\n",
       "  <thead>\n",
       "    <tr style=\"text-align: right;\">\n",
       "      <th></th>\n",
       "      <th>School Type</th>\n",
       "      <th>Total Students</th>\n",
       "      <th>Total School Budget</th>\n",
       "      <th>Per Student Budget</th>\n",
       "      <th>Average Math Score</th>\n",
       "      <th>Average Reading Score</th>\n",
       "      <th>Percentage Passing Math</th>\n",
       "      <th>Percentage Passing Reading</th>\n",
       "      <th>Percentage Overall Passing</th>\n",
       "    </tr>\n",
       "  </thead>\n",
       "  <tbody>\n",
       "    <tr>\n",
       "      <th>0</th>\n",
       "      <td>school_name\n",
       "Huang High School        District\n",
       "...</td>\n",
       "      <td>school_name\n",
       "Bailey High School       4976\n",
       "Cabr...</td>\n",
       "      <td>school_name\n",
       "Huang High School     1910635\n",
       "Huan...</td>\n",
       "      <td>school_name\n",
       "Huang High School        655.0\n",
       "Fig...</td>\n",
       "      <td>school_name\n",
       "Bailey High School       77.048432...</td>\n",
       "      <td>school_name\n",
       "Bailey High School       81.033963...</td>\n",
       "      <td>school_name\n",
       "Bailey High School       66.680064...</td>\n",
       "      <td>school_name\n",
       "Bailey High School       81.933280...</td>\n",
       "      <td>school_name\n",
       "Bailey High School       54.642283...</td>\n",
       "    </tr>\n",
       "  </tbody>\n",
       "</table>\n",
       "</div>"
      ],
      "text/plain": [
       "                                         School Type  \\\n",
       "0  school_name\n",
       "Huang High School        District\n",
       "...   \n",
       "\n",
       "                                      Total Students  \\\n",
       "0  school_name\n",
       "Bailey High School       4976\n",
       "Cabr...   \n",
       "\n",
       "                                 Total School Budget  \\\n",
       "0  school_name\n",
       "Huang High School     1910635\n",
       "Huan...   \n",
       "\n",
       "                                  Per Student Budget  \\\n",
       "0  school_name\n",
       "Huang High School        655.0\n",
       "Fig...   \n",
       "\n",
       "                                  Average Math Score  \\\n",
       "0  school_name\n",
       "Bailey High School       77.048432...   \n",
       "\n",
       "                               Average Reading Score  \\\n",
       "0  school_name\n",
       "Bailey High School       81.033963...   \n",
       "\n",
       "                             Percentage Passing Math  \\\n",
       "0  school_name\n",
       "Bailey High School       66.680064...   \n",
       "\n",
       "                          Percentage Passing Reading  \\\n",
       "0  school_name\n",
       "Bailey High School       81.933280...   \n",
       "\n",
       "                          Percentage Overall Passing  \n",
       "0  school_name\n",
       "Bailey High School       54.642283...  "
      ]
     },
     "execution_count": 37,
     "metadata": {},
     "output_type": "execute_result"
    }
   ],
   "source": [
    "per_school_summary = pd.DataFrame({\n",
    "    \"School Type\": [school_types],\n",
    "    \"Total Students\": [per_school_total_student],\n",
    "    \"Total School Budget\": [per_school_budget],\n",
    "    \"Per Student Budget\": [per_student_budget],\n",
    "    \"Average Math Score\": [per_school_math],\n",
    "    \"Average Reading Score\": [per_school_reading],\n",
    "    \"Percentage Passing Math\": [per_school_passing_math],\n",
    "    'Percentage Passing Reading': [per_school_passing_reading],\n",
    "    \"Percentage Overall Passing\": [overall_passing_rate]})\n",
    "\n",
    "\n",
    "\n",
    "# # Display the DataFrame\n",
    "\n",
    "per_school_summary.head(5)"
   ]
  },
  {
   "cell_type": "code",
   "execution_count": 41,
   "metadata": {},
   "outputs": [
    {
     "ename": "TypeError",
     "evalue": "unsupported format string passed to Series.__format__",
     "output_type": "error",
     "traceback": [
      "\u001b[1;31m---------------------------------------------------------------------------\u001b[0m",
      "\u001b[1;31mTypeError\u001b[0m                                 Traceback (most recent call last)",
      "\u001b[1;32m~\\AppData\\Local\\Temp\\ipykernel_16428\\1041016909.py\u001b[0m in \u001b[0;36m<module>\u001b[1;34m\u001b[0m\n\u001b[0;32m      2\u001b[0m \u001b[1;33m\u001b[0m\u001b[0m\n\u001b[0;32m      3\u001b[0m \u001b[1;31m#Formatting\u001b[0m\u001b[1;33m\u001b[0m\u001b[1;33m\u001b[0m\u001b[0m\n\u001b[1;32m----> 4\u001b[1;33m \u001b[0mper_school_summary\u001b[0m\u001b[1;33m[\u001b[0m\u001b[1;34m\"Total School Budget\"\u001b[0m\u001b[1;33m]\u001b[0m \u001b[1;33m=\u001b[0m \u001b[0mper_school_summary\u001b[0m\u001b[1;33m[\u001b[0m\u001b[1;34m\"Total School Budget\"\u001b[0m\u001b[1;33m]\u001b[0m\u001b[1;33m.\u001b[0m\u001b[0mmap\u001b[0m\u001b[1;33m(\u001b[0m\u001b[1;34m\"${:,.2f}\"\u001b[0m\u001b[1;33m.\u001b[0m\u001b[0mformat\u001b[0m\u001b[1;33m)\u001b[0m\u001b[1;33m\u001b[0m\u001b[1;33m\u001b[0m\u001b[0m\n\u001b[0m\u001b[0;32m      5\u001b[0m \u001b[0mper_school_summary\u001b[0m\u001b[1;33m[\u001b[0m\u001b[1;34m\"Per Student Budget\"\u001b[0m\u001b[1;33m]\u001b[0m \u001b[1;33m=\u001b[0m \u001b[0mper_school_summary\u001b[0m\u001b[1;33m[\u001b[0m\u001b[1;34m\"Per Student Budget\"\u001b[0m\u001b[1;33m]\u001b[0m\u001b[1;33m.\u001b[0m\u001b[0mmap\u001b[0m\u001b[1;33m(\u001b[0m\u001b[1;34m\"${:,.2f}\"\u001b[0m\u001b[1;33m.\u001b[0m\u001b[0mformat\u001b[0m\u001b[1;33m)\u001b[0m\u001b[1;33m\u001b[0m\u001b[1;33m\u001b[0m\u001b[0m\n\u001b[0;32m      6\u001b[0m \u001b[0mper_school_summary\u001b[0m\u001b[1;33m\u001b[0m\u001b[1;33m\u001b[0m\u001b[0m\n",
      "\u001b[1;32m~\\anaconda3\\lib\\site-packages\\pandas\\core\\series.py\u001b[0m in \u001b[0;36mmap\u001b[1;34m(self, arg, na_action)\u001b[0m\n\u001b[0;32m   4235\u001b[0m         \u001b[0mdtype\u001b[0m\u001b[1;33m:\u001b[0m \u001b[0mobject\u001b[0m\u001b[1;33m\u001b[0m\u001b[1;33m\u001b[0m\u001b[0m\n\u001b[0;32m   4236\u001b[0m         \"\"\"\n\u001b[1;32m-> 4237\u001b[1;33m         \u001b[0mnew_values\u001b[0m \u001b[1;33m=\u001b[0m \u001b[0mself\u001b[0m\u001b[1;33m.\u001b[0m\u001b[0m_map_values\u001b[0m\u001b[1;33m(\u001b[0m\u001b[0marg\u001b[0m\u001b[1;33m,\u001b[0m \u001b[0mna_action\u001b[0m\u001b[1;33m=\u001b[0m\u001b[0mna_action\u001b[0m\u001b[1;33m)\u001b[0m\u001b[1;33m\u001b[0m\u001b[1;33m\u001b[0m\u001b[0m\n\u001b[0m\u001b[0;32m   4238\u001b[0m         return self._constructor(new_values, index=self.index).__finalize__(\n\u001b[0;32m   4239\u001b[0m             \u001b[0mself\u001b[0m\u001b[1;33m,\u001b[0m \u001b[0mmethod\u001b[0m\u001b[1;33m=\u001b[0m\u001b[1;34m\"map\"\u001b[0m\u001b[1;33m\u001b[0m\u001b[1;33m\u001b[0m\u001b[0m\n",
      "\u001b[1;32m~\\anaconda3\\lib\\site-packages\\pandas\\core\\base.py\u001b[0m in \u001b[0;36m_map_values\u001b[1;34m(self, mapper, na_action)\u001b[0m\n\u001b[0;32m    878\u001b[0m \u001b[1;33m\u001b[0m\u001b[0m\n\u001b[0;32m    879\u001b[0m         \u001b[1;31m# mapper is a function\u001b[0m\u001b[1;33m\u001b[0m\u001b[1;33m\u001b[0m\u001b[0m\n\u001b[1;32m--> 880\u001b[1;33m         \u001b[0mnew_values\u001b[0m \u001b[1;33m=\u001b[0m \u001b[0mmap_f\u001b[0m\u001b[1;33m(\u001b[0m\u001b[0mvalues\u001b[0m\u001b[1;33m,\u001b[0m \u001b[0mmapper\u001b[0m\u001b[1;33m)\u001b[0m\u001b[1;33m\u001b[0m\u001b[1;33m\u001b[0m\u001b[0m\n\u001b[0m\u001b[0;32m    881\u001b[0m \u001b[1;33m\u001b[0m\u001b[0m\n\u001b[0;32m    882\u001b[0m         \u001b[1;32mreturn\u001b[0m \u001b[0mnew_values\u001b[0m\u001b[1;33m\u001b[0m\u001b[1;33m\u001b[0m\u001b[0m\n",
      "\u001b[1;32m~\\anaconda3\\lib\\site-packages\\pandas\\_libs\\lib.pyx\u001b[0m in \u001b[0;36mpandas._libs.lib.map_infer\u001b[1;34m()\u001b[0m\n",
      "\u001b[1;31mTypeError\u001b[0m: unsupported format string passed to Series.__format__"
     ]
    }
   ],
   "source": [
    "# Create a DataFrame called `per_school_summary` with columns for the calculations above.\n",
    "\n",
    "#Formatting                                                                         \n",
    "per_school_summary[\"Total School Budget\"] = per_school_summary[\"Total School Budget\"].map(\"${:,.2f}\".format)\n",
    "per_school_summary[\"Per Student Budget\"] = per_school_summary[\"Per Student Budget\"].map(\"${:,.2f}\".format)\n",
    "per_school_summary"
   ]
  },
  {
   "cell_type": "markdown",
   "metadata": {},
   "source": [
    "## Highest-Performing Schools (by % Overall Passing)"
   ]
  },
  {
   "cell_type": "code",
   "execution_count": null,
   "metadata": {
    "scrolled": true
   },
   "outputs": [],
   "source": [
    "# Sort the schools by `% Overall Passing` in descending order and display the top 5 rows.\n"
   ]
  },
  {
   "cell_type": "markdown",
   "metadata": {},
   "source": [
    "## Bottom Performing Schools (By % Overall Passing)"
   ]
  },
  {
   "cell_type": "code",
   "execution_count": null,
   "metadata": {},
   "outputs": [],
   "source": [
    "# Sort the schools by `% Overall Passing` in ascending order and display the top 5 rows.\n"
   ]
  },
  {
   "cell_type": "markdown",
   "metadata": {},
   "source": [
    "## Math Scores by Grade"
   ]
  },
  {
   "cell_type": "code",
   "execution_count": null,
   "metadata": {},
   "outputs": [],
   "source": [
    "# Use the code provided to separate the data by grade\n",
    "ninth_graders = school_data_complete[(school_data_complete[\"grade\"] == \"9th\")]\n",
    "tenth_graders = school_data_complete[(school_data_complete[\"grade\"] == \"10th\")]\n",
    "eleventh_graders = school_data_complete[(school_data_complete[\"grade\"] == \"11th\")]\n",
    "twelfth_graders = school_data_complete[(school_data_complete[\"grade\"] == \"12th\")]\n",
    "\n",
    "# Group by \"school_name\" and take the mean of each.\n",
    "ninth_graders_scores = \n",
    "tenth_graders_scores = \n",
    "eleventh_graders_scores = \n",
    "twelfth_graders_scores = \n",
    "\n",
    "# Use the code to select only the `math_score`.\n",
    "ninth_grade_math_scores = ninth_graders_scores[\"math_score\"]\n",
    "tenth_grader_math_scores = tenth_graders_scores[\"math_score\"]\n",
    "eleventh_grader_math_scores = eleventh_graders_scores.mean()[\"math_score\"]\n",
    "twelfth_grader_math_scores = twelfth_graders_scores[\"math_score\"]\n",
    "\n",
    "# Combine each of the scores above into single DataFrame called `math_scores_by_grade`\n",
    "\n",
    "\n",
    "# Minor data wrangling\n",
    "math_scores_by_grade.index.name = None\n",
    "\n",
    "# Display the DataFrame\n",
    "math_scores_by_grade"
   ]
  },
  {
   "cell_type": "markdown",
   "metadata": {},
   "source": [
    "## Reading Score by Grade "
   ]
  },
  {
   "cell_type": "code",
   "execution_count": null,
   "metadata": {},
   "outputs": [],
   "source": [
    "# Use the code provided to separate the data by grade\n",
    "ninth_graders = school_data_complete[(school_data_complete[\"grade\"] == \"9th\")]\n",
    "tenth_graders = school_data_complete[(school_data_complete[\"grade\"] == \"10th\")]\n",
    "eleventh_graders = school_data_complete[(school_data_complete[\"grade\"] == \"11th\")]\n",
    "twelfth_graders = school_data_complete[(school_data_complete[\"grade\"] == \"12th\")]\n",
    "\n",
    "# Group by \"school_name\" and take the mean of each.\n",
    "ninth_graders_scores = \n",
    "tenth_graders_scores = \n",
    "eleventh_graders_scores = \n",
    "twelfth_graders_scores = \n",
    "\n",
    "# Use the code to select only the `reading_score`.\n",
    "ninth_grade_reading_scores = ninth_graders_scores[\"reading_score\"]\n",
    "tenth_grader_reading_scores = tenth_graders_scores[\"reading_score\"]\n",
    "eleventh_grader_reading_scores = eleventh_graders_scores.mean()[\"reading_score\"]\n",
    "twelfth_grader_reading_scores = twelfth_graders_scores[\"reading_score\"]\n",
    "\n",
    "# Combine each of the scores above into single DataFrame called `reading_scores_by_grade`\n",
    "\n",
    "\n",
    "# Minor data wrangling\n",
    "reading_scores_by_grade = reading_scores_by_grade[[\"9th\", \"10th\", \"11th\", \"12th\"]]\n",
    "reading_scores_by_grade.index.name = None\n",
    "\n",
    "# Display the DataFrame\n",
    "reading_scores_by_grade"
   ]
  },
  {
   "cell_type": "markdown",
   "metadata": {},
   "source": [
    "## Scores by School Spending"
   ]
  },
  {
   "cell_type": "code",
   "execution_count": null,
   "metadata": {},
   "outputs": [],
   "source": [
    "# Establish the bins \n",
    "spending_bins = [0, 585, 630, 645, 680]\n",
    "labels = [\"<$585\", \"$585-630\", \"$630-645\", \"$645-680\"]"
   ]
  },
  {
   "cell_type": "code",
   "execution_count": null,
   "metadata": {},
   "outputs": [],
   "source": [
    "# Create a copy of the school summary since it has the \"Per Student Budget\" \n",
    "school_spending_df = per_school_summary.copy()"
   ]
  },
  {
   "cell_type": "code",
   "execution_count": null,
   "metadata": {},
   "outputs": [],
   "source": [
    "# Use `pd.cut` to categorize spending based on the bins.\n",
    "school_spending_df[\"Spending Ranges (Per Student)\"] = "
   ]
  },
  {
   "cell_type": "code",
   "execution_count": null,
   "metadata": {},
   "outputs": [],
   "source": [
    "#  Calculate averages for the desired columns. \n",
    "spending_math_scores = school_spending_df.groupby([\"Spending Ranges (Per Student)\"]).mean()[\"Average Math Score\"]\n",
    "spending_reading_scores = school_spending_df.groupby([\"Spending Ranges (Per Student)\"]).mean()[\"Average Reading Score\"]\n",
    "spending_passing_math = school_spending_df.groupby([\"Spending Ranges (Per Student)\"]).mean()[\"% Passing Math\"]\n",
    "spending_passing_reading = school_spending_df.groupby([\"Spending Ranges (Per Student)\"]).mean()[\"% Passing Reading\"]\n",
    "overall_passing_spending = school_spending_df.groupby([\"Spending Ranges (Per Student)\"]).mean()[\"% Overall Passing\"]"
   ]
  },
  {
   "cell_type": "code",
   "execution_count": null,
   "metadata": {},
   "outputs": [],
   "source": [
    "# Assemble into DataFrame\n",
    "spending_summary = \n",
    "\n",
    "# Display results\n",
    "spending_summary"
   ]
  },
  {
   "cell_type": "markdown",
   "metadata": {},
   "source": [
    "## Scores by School Size"
   ]
  },
  {
   "cell_type": "code",
   "execution_count": null,
   "metadata": {},
   "outputs": [],
   "source": [
    "# Establish the bins.\n",
    "size_bins = [0, 1000, 2000, 5000]\n",
    "labels = [\"Small (<1000)\", \"Medium (1000-2000)\", \"Large (2000-5000)\"]"
   ]
  },
  {
   "cell_type": "code",
   "execution_count": null,
   "metadata": {},
   "outputs": [],
   "source": [
    "# Categorize the spending based on the bins\n",
    "# Use `pd.cut` on the \"Total Students\" column of the `per_school_summary` DataFrame.\n",
    "\n",
    "per_school_summary[\"School Size\"] = "
   ]
  },
  {
   "cell_type": "code",
   "execution_count": null,
   "metadata": {},
   "outputs": [],
   "source": [
    "# Calculate averages for the desired columns. \n",
    "size_math_scores = per_school_summary.groupby([\"School Size\"]).mean()[\"Average Math Score\"]\n",
    "size_reading_scores = per_school_summary.groupby([\"School Size\"]).mean()[\"Average Reading Score\"]\n",
    "size_passing_math = per_school_summary.groupby([\"School Size\"]).mean()[\"% Passing Math\"]\n",
    "size_passing_reading = per_school_summary.groupby([\"School Size\"]).mean()[\"% Passing Reading\"]\n",
    "size_overall_passing = per_school_summary.groupby([\"School Size\"]).mean()[\"% Overall Passing\"]"
   ]
  },
  {
   "cell_type": "code",
   "execution_count": null,
   "metadata": {
    "scrolled": true
   },
   "outputs": [],
   "source": [
    "# Create a DataFrame called `size_summary` that breaks down school performance based on school size (small, medium, or large).\n",
    "# Use the scores above to create a new DataFrame called `size_summary`\n",
    "\n",
    "\n",
    "# Display results\n",
    "size_summary"
   ]
  },
  {
   "cell_type": "markdown",
   "metadata": {},
   "source": [
    "## Scores by School Type"
   ]
  },
  {
   "cell_type": "code",
   "execution_count": null,
   "metadata": {},
   "outputs": [],
   "source": [
    "# Group the per_school_summary DataFrame by \"School Type\" and average the results.\n",
    "type_math_scores = \n",
    "type_reading_scores = \n",
    "type_passing_math = \n",
    "type_passing_reading = \n",
    "type_overall_passing = \n",
    "\n",
    "# Use the code provided to select new column data\n",
    "average_math_score_by_type = type_math_scores[\"Average Math Score\"]\n",
    "average_reading_score_by_type = type_reading_scores[\"Average Reading Score\"]\n",
    "average_percent_passing_math_by_type = type_passing_math[\"% Passing Math\"]\n",
    "average_percent_passing_reading_by_type = type_passing_reading[\"% Passing Reading\"]\n",
    "average_percent_overall_passing_by_type = type_overall_passing[\"% Overall Passing\"]"
   ]
  },
  {
   "cell_type": "code",
   "execution_count": null,
   "metadata": {},
   "outputs": [],
   "source": [
    "# Assemble the new data by type into a DataFrame called `type_summary`\n",
    "\n",
    "\n",
    "# Display results\n",
    "type_summary"
   ]
  },
  {
   "cell_type": "code",
   "execution_count": null,
   "metadata": {},
   "outputs": [],
   "source": []
  }
 ],
 "metadata": {
  "anaconda-cloud": {},
  "kernel_info": {
   "name": "python3"
  },
  "kernelspec": {
   "display_name": "Python 3 (ipykernel)",
   "language": "python",
   "name": "python3"
  },
  "language_info": {
   "codemirror_mode": {
    "name": "ipython",
    "version": 3
   },
   "file_extension": ".py",
   "mimetype": "text/x-python",
   "name": "python",
   "nbconvert_exporter": "python",
   "pygments_lexer": "ipython3",
   "version": "3.9.13"
  },
  "latex_envs": {
   "LaTeX_envs_menu_present": true,
   "autoclose": false,
   "autocomplete": true,
   "bibliofile": "biblio.bib",
   "cite_by": "apalike",
   "current_citInitial": 1,
   "eqLabelWithNumbers": true,
   "eqNumInitial": 1,
   "hotkeys": {
    "equation": "Ctrl-E",
    "itemize": "Ctrl-I"
   },
   "labels_anchors": false,
   "latex_user_defs": false,
   "report_style_numbering": false,
   "user_envs_cfg": false
  },
  "nteract": {
   "version": "0.8.4"
  }
 },
 "nbformat": 4,
 "nbformat_minor": 4
}
